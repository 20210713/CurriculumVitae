{
  "nbformat": 4,
  "nbformat_minor": 0,
  "metadata": {
    "colab": {
      "provenance": [],
      "authorship_tag": "ABX9TyMK6i3C878H3vXAdDeoHQP2",
      "include_colab_link": true
    },
    "kernelspec": {
      "name": "python3",
      "display_name": "Python 3"
    },
    "language_info": {
      "name": "python"
    }
  },
  "cells": [
    {
      "cell_type": "markdown",
      "metadata": {
        "id": "view-in-github",
        "colab_type": "text"
      },
      "source": [
        "<a href=\"https://colab.research.google.com/github/20210713/CurriculumVitae/blob/main/RegresionLogisticaEjemplo.ipynb\" target=\"_parent\"><img src=\"https://colab.research.google.com/assets/colab-badge.svg\" alt=\"Open In Colab\"/></a>"
      ]
    },
    {
      "cell_type": "code",
      "execution_count": 20,
      "metadata": {
        "id": "ZY7ls5BDGtoY"
      },
      "outputs": [],
      "source": [
        "# Paso 1: importamos la librería numérica NumPy\n",
        "import numpy as np\n",
        "\n",
        "# Paso 2: preparamos los datos\n",
        "X = np.array([0.5, 0.75, 1, 1.25, 1.5, 1.75, 1.75, 2, 2.25, 2.5, 2.75, 3, 3.25, 3.5, 4, 4.25, 4.5, 4.75, 5, 5.5]).reshape(-1,1)\n",
        "y = np.array([0, 0, 0, 0, 0, 0, 1, 0, 1, 0, 1, 0, 1, 0, 1, 1, 1, 1, 1, 1])"
      ]
    },
    {
      "cell_type": "code",
      "source": [
        "# Paso 3: importamos la clase LogisticRegresion de scikit-learn\n",
        "from sklearn.linear_model import LogisticRegression\n",
        "\n",
        "# Paso 4: Creamos una instancia de la Regresión Logística\n",
        "regresion_logistica = LogisticRegression()\n",
        "\n",
        "# Paso 5: Entrena la regresión logística con los datos de entrenamiento \n",
        "regresion_logistica.fit(X,y)\n",
        "\n",
        "X_nuevo = np.array([1, 2, 3, 4, 5, 6]).reshape(-1,1)"
      ],
      "metadata": {
        "id": "6N4WZ0tLG4zi"
      },
      "execution_count": 21,
      "outputs": []
    },
    {
      "cell_type": "code",
      "source": [
        "# Paso 6: Usa el modelo entrenado para obtener las predicciones con datos nuevos\n",
        "prediccion = regresion_logistica.predict(X_nuevo)\n",
        "print(prediccion)\n",
        "# produce el resultado: [0 0 1 1 1 1]"
      ],
      "metadata": {
        "colab": {
          "base_uri": "https://localhost:8080/"
        },
        "id": "q0jVrUTMMO5A",
        "outputId": "0216f189-cd6e-48e2-ec97-26778e513420"
      },
      "execution_count": 22,
      "outputs": [
        {
          "output_type": "stream",
          "name": "stdout",
          "text": [
            "[0 0 1 1 1 1]\n"
          ]
        }
      ]
    },
    {
      "cell_type": "code",
      "source": [
        "# Paso 7: Opcionalmente, obtén las probabilidades de la predicción\n",
        "probabilidades_prediccion = regresion_logistica.predict_proba(X_nuevo)\n",
        "print(probabilidades_prediccion)\n",
        "\n",
        "# produce el siguiente resultado (la primera columna es \n",
        "# la probabilidad de suspender y la segunda columna es\n",
        "# la probabilidad de aprobar)\n",
        "# [[0.87984046 0.12015954]\n",
        "#  [0.69895285 0.30104715]\n",
        "#  [0.42402118 0.57597882]\n",
        "#  [0.18924992 0.81075008]\n",
        "#  [0.06891381 0.93108619]\n",
        "#  [0.02293029 0.97706971]]\n",
        "\n",
        "# Como seguramente estamos más interesados en la probabilidad de aprobar,\n",
        "# podemos centrarnos en la segunda columna\n",
        "print(probabilidades_prediccion[:,1])\n",
        "\n",
        "# produce el resultado:[0.12015954 0.30104715 0.57597882 0.81075008 0.93108619 0.97706971]"
      ],
      "metadata": {
        "colab": {
          "base_uri": "https://localhost:8080/"
        },
        "id": "hWmsHngcHC3b",
        "outputId": "22b1fe00-dfb9-41ef-da6f-4ad7ef07a4e4"
      },
      "execution_count": 27,
      "outputs": [
        {
          "output_type": "stream",
          "name": "stdout",
          "text": [
            "[[0.87984046 0.12015954]\n",
            " [0.69895285 0.30104715]\n",
            " [0.42402118 0.57597882]\n",
            " [0.18924992 0.81075008]\n",
            " [0.06891381 0.93108619]\n",
            " [0.02293029 0.97706971]]\n",
            "[0.12015954 0.30104715 0.57597882 0.81075008 0.93108619 0.97706971]\n"
          ]
        }
      ]
    }
  ]
}